{
 "cells": [
  {
   "cell_type": "markdown",
   "id": "a0880a08",
   "metadata": {},
   "source": [
    "### Load libraries"
   ]
  },
  {
   "cell_type": "code",
   "execution_count": 1,
   "id": "dd226201",
   "metadata": {},
   "outputs": [],
   "source": [
    "import os\n",
    "import pandas as pd\n",
    "\n",
    "# import function files\n",
    "import sys\n",
    "file = 'etl_functions.py'\n",
    "sys.path.insert(0,os.path.dirname(os.path.abspath(file)))\n",
    "import etl_functions"
   ]
  },
  {
   "cell_type": "markdown",
   "id": "bd099f25",
   "metadata": {},
   "source": [
    "### Define variables"
   ]
  },
  {
   "cell_type": "code",
   "execution_count": null,
   "id": "7276855b",
   "metadata": {},
   "outputs": [],
   "source": [
    "config_load_file_name = 'config_load.yml'\n",
    "item_DATABASE_CREDENTIALS = 'DATABASE_CREDENTIALS'\n",
    "item_NEW_TABLE_COLUMNS = 'NEW_TABLE_COLUMNS'\n",
    "item_TABLE_NAME = 'TABLE_NAME'\n",
    "item_NEW_COLUMNS_IF_TABLE_EXISTS = 'NEW_COLUMNS_IF_TABLE_EXISTS'\n",
    "item_FILE_TO_UPLOAD = 'FILE_TO_UPLOAD'\n",
    "item_PRIMARY_KEY_COLUMN = 'PRIMARY_KEY_COLUMN'"
   ]
  },
  {
   "cell_type": "markdown",
   "id": "ddf28f66",
   "metadata": {},
   "source": [
    "### 3. Load"
   ]
  },
  {
   "cell_type": "markdown",
   "id": "008de84f",
   "metadata": {},
   "source": [
    "#### 3.1 Create the database connection\n",
    "Create the database connection using the information from the _DATABASE_CREDENTIALS_ block of the **config_et.yml file**."
   ]
  },
  {
   "cell_type": "code",
   "execution_count": null,
   "id": "28306499",
   "metadata": {},
   "outputs": [],
   "source": [
    "connection, cursor = etl_functions.database_connection(config_load_file_name, item_DATABASE_CREDENTIALS)"
   ]
  },
  {
   "cell_type": "markdown",
   "id": "8bea4b48",
   "metadata": {},
   "source": [
    "#### 3.2 Create table "
   ]
  },
  {
   "cell_type": "code",
   "execution_count": null,
   "id": "78322625",
   "metadata": {},
   "outputs": [],
   "source": [
    "# create PostgreSQL statement \n",
    "create_table_sql_statement = etl_functions.sql_statement_create_table_if_not_exists(config_load_file_name, item_NEW_TABLE_COLUMNS, item_TABLE_NAME)\n",
    "\n",
    "# run the PostgreSQL statement\n",
    "etl_functions.execute_sql_statement(cursor, connection, [create_table_sql_statement])\n",
    "\n",
    "# get the PostgreSQL table information\n",
    "etl_functions.print_columns(cursor, config_load_file_name, item_TABLE_NAME)"
   ]
  },
  {
   "cell_type": "markdown",
   "id": "7e87466b",
   "metadata": {},
   "source": [
    "#### 3.3 Add new column "
   ]
  },
  {
   "cell_type": "code",
   "execution_count": null,
   "id": "f9da904d",
   "metadata": {},
   "outputs": [],
   "source": [
    "# create PostgreSQL statement\n",
    "add_column_sql_statement =  etl_functions.sql_statement_add_column_if_table_exists(config_load_file_name, item_NEW_COLUMNS_IF_TABLE_EXISTS, item_TABLE_NAME)\n",
    "\n",
    "# run the PostgreSQL statement\n",
    "etl_functions.execute_sql_statement(cursor, connection, [add_column_sql_statement])\n",
    "\n",
    "# get the PostgreSQL table information\n",
    "etl_functions.print_columns(cursor, config_load_file_name, item_TABLE_NAME)"
   ]
  },
  {
   "cell_type": "markdown",
   "id": "e8930de9",
   "metadata": {},
   "source": [
    "#### 3.4 Load data"
   ]
  },
  {
   "cell_type": "code",
   "execution_count": null,
   "id": "cc0a6278",
   "metadata": {
    "scrolled": true
   },
   "outputs": [],
   "source": [
    "etl_functions.insert_dataframe_to_database(connection, cursor, config_load_file_name, item_FILE_TO_UPLOAD, \n",
    "                                           item_TABLE_NAME, item_PRIMARY_KEY_COLUMN)"
   ]
  },
  {
   "cell_type": "markdown",
   "id": "5d393d0d",
   "metadata": {},
   "source": [
    "#### 3.5 Close the database conection"
   ]
  },
  {
   "cell_type": "code",
   "execution_count": null,
   "id": "d353495e",
   "metadata": {},
   "outputs": [],
   "source": [
    "cursor.close()\n",
    "connection.close()"
   ]
  },
  {
   "cell_type": "markdown",
   "id": "bc8510cb",
   "metadata": {},
   "source": [
    "### 4. Some useful SQL statements "
   ]
  },
  {
   "cell_type": "markdown",
   "id": "436e9e76",
   "metadata": {},
   "source": [
    "#### Create the database connection\n",
    "Create the database connection using the information from the _DATABASE_CREDENTIALS_ block of the **config_et.yml file**."
   ]
  },
  {
   "cell_type": "code",
   "execution_count": null,
   "id": "fa4b739e",
   "metadata": {},
   "outputs": [],
   "source": [
    "connection, cursor = etl_functions.database_connection(config_load_file_name, item_DATABASE_CREDENTIALS)"
   ]
  },
  {
   "cell_type": "markdown",
   "id": "3f161268",
   "metadata": {},
   "source": [
    "#### Describe table\n",
    "Describe the structure of a table specified in the **table_name** variable."
   ]
  },
  {
   "cell_type": "code",
   "execution_count": null,
   "id": "2620542c",
   "metadata": {},
   "outputs": [],
   "source": [
    "table_name = 'write_your_table_name'\n",
    "\n",
    "etl_functions.describe_table(cursor, table_name)"
   ]
  },
  {
   "cell_type": "markdown",
   "id": "51bfed0e",
   "metadata": {},
   "source": [
    "#### Querying a Table\n",
    "In the following link, you can find the syntax of the [SQL](https://www.w3schools.com/sql/default.asp) statements that you can use for querying a table. \n",
    "\n",
    "[https://www.postgresql.org/docs/current/tutorial-select.html](https://www.postgresql.org/docs/current/tutorial-select.html)"
   ]
  },
  {
   "cell_type": "code",
   "execution_count": null,
   "id": "169ff63d",
   "metadata": {},
   "outputs": [],
   "source": [
    "# create the sql statement\n",
    "sql_statement = 'SELECT * FROM write_your_table_name'\n",
    "\n",
    "# execute SQL query\n",
    "cursor.execute(sql_statement)\n",
    "\n",
    "query_results = cursor.fetchall()\n",
    "\n",
    "# create the dataframe\n",
    "colnames = [desc[0] for desc in cursor.description]\n",
    "    \n",
    "data_frame = pd.DataFrame(data = query_results, columns = colnames)\n",
    "\n",
    "data_frame"
   ]
  },
  {
   "cell_type": "markdown",
   "id": "d16a2ecd",
   "metadata": {},
   "source": [
    "#### Delete column\n",
    "Delete the column specified in the **column_name** variable from the table set in the **table_name** variable. \n",
    "\n",
    "**CAUTION! Be careful before dropping a column. Deleting a column will result in the loss of complete information stored in that column!**"
   ]
  },
  {
   "cell_type": "code",
   "execution_count": null,
   "id": "09dfec58",
   "metadata": {},
   "outputs": [],
   "source": [
    "table_name = 'write_your_table_name'\n",
    "column_name = 'write_your_column_name'\n",
    "\n",
    "# sql =  'ALTER TABLE ' +  table_name + ' DROP COLUMN ' + column_name \n",
    "\n",
    "# cursor.execute(sql)"
   ]
  },
  {
   "cell_type": "markdown",
   "id": "28483720",
   "metadata": {},
   "source": [
    "#### Delete table\n",
    "Delete the table specified in the **table_name** variable. \n",
    "\n",
    "**CAUTION! Be careful before dropping a table. Deleting a table will result in the loss of complete information stored in the table!**"
   ]
  },
  {
   "cell_type": "code",
   "execution_count": null,
   "id": "d354883b",
   "metadata": {},
   "outputs": [],
   "source": [
    "table_name = 'write_your_table_name'\n",
    "\n",
    "#delete_table_sql = 'DROP table ' + table_name \n",
    "\n",
    "#cursor.execute(delete_table_sql)"
   ]
  },
  {
   "cell_type": "markdown",
   "id": "087445c1",
   "metadata": {},
   "source": [
    "#### Close the database conection"
   ]
  },
  {
   "cell_type": "code",
   "execution_count": null,
   "id": "7ba48ec1",
   "metadata": {},
   "outputs": [],
   "source": [
    "cursor.close()\n",
    "connection.close()"
   ]
  }
 ],
 "metadata": {
  "kernelspec": {
   "display_name": "Python 3 (ipykernel)",
   "language": "python",
   "name": "python3"
  },
  "language_info": {
   "codemirror_mode": {
    "name": "ipython",
    "version": 3
   },
   "file_extension": ".py",
   "mimetype": "text/x-python",
   "name": "python",
   "nbconvert_exporter": "python",
   "pygments_lexer": "ipython3",
   "version": "3.8.12"
  }
 },
 "nbformat": 4,
 "nbformat_minor": 5
}
