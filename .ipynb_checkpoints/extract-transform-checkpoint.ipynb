{
 "cells": [
  {
   "cell_type": "markdown",
   "id": "a0880a08",
   "metadata": {},
   "source": [
    "### Load libraries"
   ]
  },
  {
   "cell_type": "code",
   "execution_count": null,
   "id": "dd226201",
   "metadata": {},
   "outputs": [],
   "source": [
    "# import pandas as pd\n",
    "import os\n",
    "import errno\n",
    "import yaml\n",
    "import time\n",
    "\n",
    "# import function files\n",
    "import sys\n",
    "file = 'etl_functions.py'\n",
    "sys.path.insert(0,os.path.dirname(os.path.abspath(file)))\n",
    "import etl_functions"
   ]
  },
  {
   "cell_type": "markdown",
   "id": "bd099f25",
   "metadata": {},
   "source": [
    "### Define variables"
   ]
  },
  {
   "cell_type": "code",
   "execution_count": null,
   "id": "7276855b",
   "metadata": {},
   "outputs": [],
   "source": [
    "config_et_file_name = 'config_extract-transform.yml'\n",
    "item_ADDITIONAL_INFORMATION_FILES = 'ADDITIONAL_INFORMATION_FILES'\n",
    "item_FILES_TO_PROCESS = 'FILES_TO_PROCESS'\n",
    "item_JOIN_FILES_COMMON_COLUMNS = 'JOIN_FILES_COMMON_COLUMNS'\n",
    "item_COLUMNS_TO_DROP = 'COLUMNS_TO_DROP'\n",
    "item_UPDATE_COLUMN_VALUES = 'UPDATE_COLUMN_VALUES'\n",
    "item_NEW_COLUMNS = 'NEW_COLUMNS'\n",
    "item_OUTPUT_FILE_NAME = 'OUTPUT_FILE_NAME'\n",
    "item_UPDATE_COLUMN_NAMES = 'UPDATE_COLUMN_NAMES'\n",
    "item_UPDATE_PRIMARY_KEY_VALUES = 'UPDATE_PRIMARY_KEY_VALUES'\n",
    "item_PRIMARY_KEY_COLUMN = 'PRIMARY_KEY_COLUMN'\n",
    "item_CREATE_PRIMARY_KEY_IF_NEEDED = 'CREATE_PRIMARY_KEY_IF_NEEDED'"
   ]
  },
  {
   "cell_type": "markdown",
   "id": "d3cb91b9",
   "metadata": {},
   "source": [
    "### 1. Extract"
   ]
  },
  {
   "cell_type": "markdown",
   "id": "973bec37",
   "metadata": {},
   "source": [
    "#### 1.1 Dataframe column names checking\n",
    "Makes a comparison of the column names in all files located in the _FILES_TO_PROCESS_ block of the **config_et.yml** file. "
   ]
  },
  {
   "cell_type": "code",
   "execution_count": null,
   "id": "0533ccd3",
   "metadata": {},
   "outputs": [],
   "source": [
    "etl_functions.compare_column_names(config_et_file_name , item_FILES_TO_PROCESS )"
   ]
  },
  {
   "cell_type": "markdown",
   "id": "dbc6cd99",
   "metadata": {},
   "source": [
    "#### 1.2 Join data files and concatenate additional information \n",
    "Concatenates all files stored in the path specified in the FILES_TO_PROCESS block and then joins them with the additional information from files specified in the _ADDITIONAL_INFORMATION_FILES_ block using the columns specified at the _JOIN_FILES_COMMON_COLUMNS_ block of the **config_et.yml** file. "
   ]
  },
  {
   "cell_type": "code",
   "execution_count": null,
   "id": "92d7eb4a",
   "metadata": {},
   "outputs": [],
   "source": [
    "extract_and_join_files = etl_functions.extract_and_join_files(config_et_file_name, item_FILES_TO_PROCESS, item_UPDATE_COLUMN_NAMES, item_ADDITIONAL_INFORMATION_FILES, item_JOIN_FILES_COMMON_COLUMNS)"
   ]
  },
  {
   "cell_type": "markdown",
   "id": "b08a04f7",
   "metadata": {},
   "source": [
    "### 2. Transform"
   ]
  },
  {
   "cell_type": "markdown",
   "id": "8d30b4de",
   "metadata": {},
   "source": [
    "#### 2.1 Drop not desired columns from the previous step resulting data frame \n",
    "Drop columns that you do not want to keep in your final Dataframe using the column names specified in the _COLUMNS_TO_DROP_ of the **config_et.yml** file.  "
   ]
  },
  {
   "cell_type": "code",
   "execution_count": null,
   "id": "74ab8a18",
   "metadata": {
    "scrolled": false
   },
   "outputs": [],
   "source": [
    "drop_not_used_columns = etl_functions.drop_not_used_columns(config_et_file_name, item_COLUMNS_TO_DROP, extract_and_join_files)"
   ]
  },
  {
   "cell_type": "markdown",
   "id": "8d836325",
   "metadata": {},
   "source": [
    "#### 2. 2 Update column names \n",
    "Update column names according to what is specified in the _UPDATE_COLUMN_NAMES_ block of the **config_et.yml** file."
   ]
  },
  {
   "cell_type": "code",
   "execution_count": null,
   "id": "6cc28fac",
   "metadata": {},
   "outputs": [],
   "source": [
    "update_column_names = etl_functions.update_column_names(config_et_file_name, item_UPDATE_COLUMN_NAMES, drop_not_used_columns)"
   ]
  },
  {
   "cell_type": "markdown",
   "id": "3ac9fe21",
   "metadata": {},
   "source": [
    "#### 2.3 Insert new columns\n",
    "\n",
    "Insert new columns and fill their rows according to what was specified at the _NEW_COLUMNS_ block of the **config_et.yml** file."
   ]
  },
  {
   "cell_type": "code",
   "execution_count": null,
   "id": "55f2d742",
   "metadata": {},
   "outputs": [],
   "source": [
    "add_new_columns = etl_functions.add_new_columns(config_et_file_name, item_NEW_COLUMNS, update_column_names)"
   ]
  },
  {
   "cell_type": "markdown",
   "id": "61a08c7c",
   "metadata": {},
   "source": [
    "#### 2.4 Update column values\n",
    "Update the column values specified at the _UPDATE_COLUMN_VALUES_ block of the **config_et.yml** file."
   ]
  },
  {
   "cell_type": "code",
   "execution_count": null,
   "id": "8eb1abdd",
   "metadata": {},
   "outputs": [],
   "source": [
    "update_column_values = etl_functions.update_column_values(config_et_file_name, item_UPDATE_COLUMN_VALUES, add_new_columns)"
   ]
  },
  {
   "cell_type": "markdown",
   "id": "4ec41251",
   "metadata": {},
   "source": [
    "#### 2.5 Create a primary key if it is needed. \n",
    "\n",
    "Especially for files for data that were not collected using [AgTC](https://github.com/Purdue-LuisVargas/AgTC)."
   ]
  },
  {
   "cell_type": "code",
   "execution_count": null,
   "id": "5da3b0e3",
   "metadata": {},
   "outputs": [],
   "source": [
    "create_primary_key = etl_functions.create_primary_key_if_needed(config_et_file_name, item_CREATE_PRIMARY_KEY_IF_NEEDED, item_PRIMARY_KEY_COLUMN, update_column_values)"
   ]
  },
  {
   "cell_type": "markdown",
   "id": "c43da37c",
   "metadata": {},
   "source": [
    "#### 2.6 Update primary_key_values\n",
    "Function that updates some characters of the primary key string. Useful when more than one trait is collected using the same template.  "
   ]
  },
  {
   "cell_type": "code",
   "execution_count": null,
   "id": "a8cedf69",
   "metadata": {},
   "outputs": [],
   "source": [
    "update_primary_key_values = etl_functions.update_primary_key_values(config_et_file_name, item_UPDATE_PRIMARY_KEY_VALUES, item_PRIMARY_KEY_COLUMN, create_primary_key )"
   ]
  },
  {
   "cell_type": "markdown",
   "id": "336980f0",
   "metadata": {},
   "source": [
    "#### 2.6 Export the final data frame \n",
    "Export the final data frame to a location specified at the _OUTPUT_FILE_NAME_ block of the **config_et.yml** file."
   ]
  },
  {
   "cell_type": "code",
   "execution_count": null,
   "id": "7e00015c",
   "metadata": {},
   "outputs": [],
   "source": [
    "etl_functions.export_dataframe(config_et_file_name, item_OUTPUT_FILE_NAME, update_primary_key_values)"
   ]
  },
  {
   "cell_type": "code",
   "execution_count": null,
   "id": "90dd9957",
   "metadata": {},
   "outputs": [],
   "source": []
  }
 ],
 "metadata": {
  "kernelspec": {
   "display_name": "Python 3 (ipykernel)",
   "language": "python",
   "name": "python3"
  },
  "language_info": {
   "codemirror_mode": {
    "name": "ipython",
    "version": 3
   },
   "file_extension": ".py",
   "mimetype": "text/x-python",
   "name": "python",
   "nbconvert_exporter": "python",
   "pygments_lexer": "ipython3",
   "version": "3.8.12"
  }
 },
 "nbformat": 4,
 "nbformat_minor": 5
}
